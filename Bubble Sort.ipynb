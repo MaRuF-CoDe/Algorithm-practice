{
 "cells": [
  {
   "cell_type": "code",
   "execution_count": 4,
   "metadata": {},
   "outputs": [],
   "source": [
    "def bubble_sort(arr11):\n",
    "    for i in range (len(arr11)-1):\n",
    "        for j in range(len(arr11)-i-1):\n",
    "            if arr11[j]>arr11[j+1]:\n",
    "                arr11[j],arr11[j+1]=arr11[j+1],arr11[j]\n"
   ]
  },
  {
   "cell_type": "code",
   "execution_count": null,
   "metadata": {},
   "outputs": [],
   "source": [
    "arr11=[]\n",
    "n=int(input('Enter Elements Number:'))\n",
    "print('Enter elements:')\n",
    "for k in range(n):\n",
    "    data=int(input())\n",
    "    arr11.append(data)\n",
    "\n",
    "print(\"After Sorting:\")\n",
    "bubble_sort(arr11)\n",
    "print(arr11)"
   ]
  },
  {
   "cell_type": "code",
   "execution_count": null,
   "metadata": {},
   "outputs": [],
   "source": []
  }
 ],
 "metadata": {
  "kernelspec": {
   "display_name": "Python 3",
   "language": "python",
   "name": "python3"
  },
  "language_info": {
   "codemirror_mode": {
    "name": "ipython",
    "version": 3
   },
   "file_extension": ".py",
   "mimetype": "text/x-python",
   "name": "python",
   "nbconvert_exporter": "python",
   "pygments_lexer": "ipython3",
   "version": "3.7.3"
  }
 },
 "nbformat": 4,
 "nbformat_minor": 2
}
